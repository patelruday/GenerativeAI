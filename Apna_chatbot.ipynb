{
  "nbformat": 4,
  "nbformat_minor": 0,
  "metadata": {
    "colab": {
      "provenance": [],
      "authorship_tag": "ABX9TyNgp3viP8rgZZgUkgFG4N2b",
      "include_colab_link": true
    },
    "kernelspec": {
      "name": "python3",
      "display_name": "Python 3"
    },
    "language_info": {
      "name": "python"
    }
  },
  "cells": [
    {
      "cell_type": "markdown",
      "metadata": {
        "id": "view-in-github",
        "colab_type": "text"
      },
      "source": [
        "<a href=\"https://colab.research.google.com/github/patelruday/GenerativeAI/blob/main/Apna_chatbot.ipynb\" target=\"_parent\"><img src=\"https://colab.research.google.com/assets/colab-badge.svg\" alt=\"Open In Colab\"/></a>"
      ]
    },
    {
      "cell_type": "code",
      "source": [
        "from asyncio import timeout\n",
        "\n",
        "import streamlit as st\n",
        "from langchain_groq import ChatGroq\n",
        "from sympy.physics.units import temperature\n",
        "\n",
        "llm=ChatGroq(\n",
        "    model=\"llama-3.1-70b-versatile\",\n",
        "    groq_api_key=\"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\",\n",
        "    temperature=0,\n",
        "    timeout=None\n",
        ")\n",
        "#make UI with streamlit\n",
        "st.title(\"ApanaChatbot\")\n",
        "topic=st.text_input(\"Enter topic\")\n",
        "response=llm.invoke(topic)\n",
        "if st.button(\"Generate\"):\n",
        "    if topic:\n",
        "        with st.spinner(\"Running...\"):\n",
        "            generated_text=response.content\n",
        "            st.subheader(\"Generated text\")\n",
        "            st.write(generated_text)\n",
        "\n",
        "    st.warning(\"Please enter your topic\")\n"
      ],
      "metadata": {
        "id": "Z2rV8NMKNr3E"
      },
      "execution_count": null,
      "outputs": []
    }
  ]
}