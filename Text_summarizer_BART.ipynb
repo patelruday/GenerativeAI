{
  "nbformat": 4,
  "nbformat_minor": 0,
  "metadata": {
    "colab": {
      "provenance": [],
      "authorship_tag": "ABX9TyOrpFgDqZSNCsaDLyX6UE4b",
      "include_colab_link": true
    },
    "kernelspec": {
      "name": "python3",
      "display_name": "Python 3"
    },
    "language_info": {
      "name": "python"
    }
  },
  "cells": [
    {
      "cell_type": "markdown",
      "metadata": {
        "id": "view-in-github",
        "colab_type": "text"
      },
      "source": [
        "<a href=\"https://colab.research.google.com/github/patelruday/GenerativeAI/blob/main/Text_summarizer_BART.ipynb\" target=\"_parent\"><img src=\"https://colab.research.google.com/assets/colab-badge.svg\" alt=\"Open In Colab\"/></a>"
      ]
    },
    {
      "cell_type": "code",
      "execution_count": null,
      "metadata": {
        "id": "cnY6Mhy1PBI6"
      },
      "outputs": [],
      "source": [
        "# install required libraries\n",
        "# transformers\n",
        "#pytorch\n",
        "#streamlit\n",
        "import streamlit as st\n",
        "from transformers import BartForConditionalGeneration,BartTokenizer\n",
        "# load pretrained BART model\n",
        "model_name=\"facebook/bart-large-cnn\"\n",
        "tokenizer=BartTokenizer.from_pretrained(model_name)\n",
        "model=BartForConditionalGeneration.from_pretrained(model_name)\n",
        "# user interface\n",
        "st.title(\"BART Text Summarizer\")\n",
        "text=st.text_area(\"Enter text to summarize\")\n",
        "if st.button(\"Generate\"):\n",
        "    if text:\n",
        "        with st.spinner(\"Generating....\"):\n",
        "            #preprocess and encode the input text\n",
        "            inputs=tokenizer.encode(\"summarize\"+text,max_length=1024,return_tensors='pt',truncation=True)\n",
        "            #create summary\n",
        "            summary_ids=model.generate(inputs,max_length=200,min_length=40,num_beams=4,early_stopping=True)\n",
        "            #Decode and generate summary\n",
        "            summary=tokenizer.decode(summary_ids[0],skip_special_tokens=True)\n",
        "            st.subheader(\"Generateted summary\")\n",
        "            st.write(summary)\n",
        "    else:\n",
        "        st.warning(\"Please enter the text to summarize \")\n"
      ]
    }
  ]
}